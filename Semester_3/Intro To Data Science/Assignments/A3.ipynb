{
 "cells": [
  {
   "cell_type": "markdown",
   "metadata": {
    "id": "Byzvt6gGWQBx",
    "jp-MarkdownHeadingCollapsed": true
   },
   "source": [
    "# Introduction to Data Science (DS 2001)\n",
    "\n",
    "**Fall 2024**\n",
    "\n",
    "**Total Marks: 100**\n",
    "\n",
    "**Due Date: 27 October 2024  _11:59 pm.**\n",
    "\n",
    "---\n",
    "\n",
    "## NLP Assignment Instructions\n",
    "\n",
    "### Instructions\n",
    "\n",
    "1. Submit a single Jupyter Notebook file named `RollNo.ipynb` (e.g., `i23_xxxx.ipynb`).\n",
    "2. Do not submit datasets, only the `.ipynb` file.\n",
    "3. Use headings to distinguish each part in the notebook.\n",
    "4. Late submissions will not be accepted.\n",
    "5. Plagiarism will result in a zero for all involved.\n",
    "\n",
    "---\n",
    "# Q1- [40 marks]: \n",
    "### Steps to be performed on both datasets:\n",
    "\n",
    "- **SMS Spam Dataset (English)**: Contains SMS messages labeled as either spam or ham. Available at the [UCI Repository](https://archive.ics.uci.edu/dataset/228/sms+spam+collection).\n",
    "- **Urdu News Dataset (Urdu)**: Contains news articles in Urdu. Available on [Kaggle](https://www.kaggle.com/datasets/saurabhshahane/urdu-news-dataset).\n",
    "\n",
    "\n",
    "1.  **[30 marks]**\n",
    "    - Build a complete preprocessing pipeline for both datasets that performs all of the above steps.\n",
    "      - **Normalization Step**: Convert the text to lowercase, remove numbers, and punctuation. This ensures uniformity in the text and reduces noise.\n",
    "      - **Tokenization Step**: Split the text into individual words to facilitate further analysis, such as removing stop words or creating n-grams.\n",
    "      - **Stop Word Removal Step**: Use a predefined list of common stop words to remove words that do not add significant meaning to the text.\n",
    "      - **Stemming and Lemmatization**: Apply Porter's Stemmer and WordNet Lemmatizer to reduce words to their base or root forms, which helps group similar words and reduces the feature space.\n",
    "      - **N-gram Modeling**: Create sequences of words (up to 5-grams) to analyze phrase structure and relationships between words.\n",
    "    - Compare the original and processed text for each dataset, highlighting the differences.\n",
    "    - Discuss challenges faced during preprocessing, particularly related to the Urdu dataset, such as tokenization and handling unique stop words.\n",
    "\n",
    "2. **Notebook Instructions [10 marks] - will be binary marked**\n",
    "    - **Structure**: Import necessary libraries, load datasets, and implement each preprocessing step in individual cells for better readability.\n",
    "    - **Markdown**: Include markdown cells to explain the purpose of each code block and provide commentary on the implementation.\n",
    "\n"
   ]
  },
  {
   "cell_type": "markdown",
   "metadata": {},
   "source": [
    "# Q2- English Poetry Generation with N-grams [60 marks]\n",
    "\n",
    "The goal of this assignment is to explore natural language processing (NLP) techniques to generate creative and expressive poetry. Students will leverage these language models to construct three stanzas, each comprising four verses with 7 to 10 words in each verse, resulting in a cohesive and meaningful poem\n",
    "\n",
    "1. **Step 1: Load and Tokenize [10 marks]** \n",
    "    - Import the provided Poetry Corpus containing works by William Shake-speare and Robert Frost.\n",
    "\n",
    "    - Tokenize the text into list of words for each poet.\n",
    "\n",
    "2. **Generate N-gram Models [20 marks]**\n",
    "    - Develop unigram, bigram, trigram models for each poet\n",
    "\n",
    "    - Create a vocabulary for each poet\n",
    "\n",
    "    - Select the first word randomly from the starting words in the vocabulary.\n",
    "\n",
    "3. **Generate poem [30 marks]**\n",
    "    - Use the unigram, bigram and trigram models to predict the next word, continuing until the verse is complete. Selecting subsequent words after choosing the first word requires predicting the most probable next word. Utilize Conditional Frequency Distribution (CFD) to determine the set of words that occur most frequently after the selected\n",
    "\n",
    "    - Apply the same approach to generate 3 verses of 4 lines each (7-10 words per line).\n",
    "\n",
    "### Desired output\n",
    "Create two poems using the steps given. One should be in the style of William Shakespear and one in the style of Robert Frost. Print 3 stanzas per style, each stanza with 4 lines each, 7-10 words per line. Print an empty line between each stanza.\n"
   ]
  },
  {
   "cell_type": "markdown",
   "metadata": {},
   "source": [
    "### here is an example of a computer generated poem in the style of shakespear:"
   ]
  },
  {
   "cell_type": "markdown",
   "metadata": {},
   "source": [
    "*Upon yon stage, where moonlight gently plays,*  \n",
    "*A soliloquy of stars in cosmic ballet.*  \n",
    "*Whispers of fate in the evening’s embrace,*  \n",
    "*Shall we dance with destiny, in this sacred space?*  \n",
    "\n",
    "*In fair Verona, where love blooms like spring,*  \n",
    "*Romeo’s heart, a sonnet that sweetly sings.*  \n",
    "*Juliet, a rose by any other name,*  \n",
    "*In the garden of passion, love’s eternal flame.*  \n",
    "\n",
    "*Morn breaks, as the sun’s golden chariot rides,*  \n",
    "*A symphony of dawn, where darkness hides.*  \n",
    "*Oh, the world’s a stage, and we but players,*  \n",
    "*In life’s grand drama, love the sweetest layers.*\n"
   ]
  },
  {
   "cell_type": "markdown",
   "metadata": {},
   "source": [
    "\n",
    "### Submission Requirements\n",
    "\n",
    "- **Jupyter Notebook (.ipynb)**: Include all code implementations, markdown explanations, and relevant output examples.\n",
    "- **PDF Report**: Provide a detailed explanation of the theory, implementation, and analysis of your preprocessing pipeline.\n",
    "\n",
    "---\n",
    "\n",
    "### Resources\n",
    "\n",
    "- **NLTK Documentation**: Refer to the official [NLTK Documentation](https://www.nltk.org/) for guidance on using the library.\n",
    "- **Lecture Slides**: Use the provided lecture slides to understand the NLP concepts discussed in this assignment.\n",
    "\n",
    "---\n",
    "\n",
    "**Happy Coding! :)**"
   ]
  }
 ],
 "metadata": {
  "colab": {
   "provenance": []
  },
  "kernelspec": {
   "display_name": "Python 3 (ipykernel)",
   "language": "python",
   "name": "python3"
  },
  "language_info": {
   "codemirror_mode": {
    "name": "ipython",
    "version": 3
   },
   "file_extension": ".py",
   "mimetype": "text/x-python",
   "name": "python",
   "nbconvert_exporter": "python",
   "pygments_lexer": "ipython3",
   "version": "3.12.4"
  }
 },
 "nbformat": 4,
 "nbformat_minor": 4
}
