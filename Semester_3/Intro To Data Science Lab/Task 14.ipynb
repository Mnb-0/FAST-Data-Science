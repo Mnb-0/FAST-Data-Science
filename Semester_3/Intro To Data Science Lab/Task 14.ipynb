{
 "cells": [
  {
   "cell_type": "code",
   "execution_count": 27,
   "metadata": {},
   "outputs": [],
   "source": [
    "import numpy as np\n",
    "import pandas as pd"
   ]
  },
  {
   "cell_type": "code",
   "execution_count": 28,
   "metadata": {},
   "outputs": [],
   "source": [
    "data = {\n",
    "    \"Size in SQ.FT\": [1600, 1200, 740],\n",
    "    \"Number of Bedrooms\": [5, 4, 2],\n",
    "    \"Sale Price in Millions\": [2.28, 1.5, 0.88]\n",
    "}\n",
    "df = pd.DataFrame(data)"
   ]
  },
  {
   "cell_type": "code",
   "execution_count": null,
   "metadata": {},
   "outputs": [],
   "source": [
    "normalized_df = df.copy()\n",
    "normalized_df[\"Size in SQ.FT\"] = (df[\"Size in SQ.FT\"] - df[\"Size in SQ.FT\"].min()) / (df[\"Size in SQ.FT\"].max() - df[\"Size in SQ.FT\"].min())\n",
    "normalized_df[\"Number of Bedrooms\"] = (df[\"Number of Bedrooms\"] - df[\"Number of Bedrooms\"].min()) / (df[\"Number of Bedrooms\"].max() - df[\"Number of Bedrooms\"].min())"
   ]
  },
  {
   "cell_type": "code",
   "execution_count": null,
   "metadata": {},
   "outputs": [],
   "source": [
    "X = normalized_df[[\"Size in SQ.FT\", \"Number of Bedrooms\"]].values\n",
    "y = np.array(df[\"Sale Price in Millions\"])"
   ]
  },
  {
   "cell_type": "code",
   "execution_count": null,
   "metadata": {},
   "outputs": [],
   "source": [
    "b = 0\n",
    "w = np.zeros(X.shape[1])\n",
    "alpha = 0.01\n",
    "m = len(y)\n",
    "\n",
    "#Perform one iteration of gradient descent\n",
    "predictions = b + np.dot(X, w)\n",
    "errors = predictions - y"
   ]
  },
  {
   "cell_type": "code",
   "execution_count": 32,
   "metadata": {},
   "outputs": [],
   "source": [
    "#Gradients (calculated for each parameter)\n",
    "b_gradient = (1/m) * np.sum(errors)\n",
    "w_gradient = (1/m) * np.dot(X.T, errors)\n",
    "\n",
    "#Update parameters\n",
    "b = b - alpha * b_gradient\n",
    "w = w - alpha * w_gradient\n",
    "\n",
    "#Predict for a house with 1500 SQ.FT and 3 bedrooms (normalized values)\n",
    "size_norm = (1500 - df[\"Size in SQ.FT\"].min()) / (df[\"Size in SQ.FT\"].max() - df[\"Size in SQ.FT\"].min())\n",
    "bedrooms_norm = (3 - df[\"Number of Bedrooms\"].min()) / (df[\"Number of Bedrooms\"].max() - df[\"Number of Bedrooms\"].min())\n",
    "prediction = b + w[0] * size_norm + w[1] * bedrooms_norm\n",
    "\n",
    "#Compute Mean Squared Error (MSE)\n",
    "mse = (1/m) * np.sum(errors**2)"
   ]
  },
  {
   "cell_type": "code",
   "execution_count": 33,
   "metadata": {},
   "outputs": [
    {
     "data": {
      "text/html": [
       "<div>\n",
       "<style scoped>\n",
       "    .dataframe tbody tr th:only-of-type {\n",
       "        vertical-align: middle;\n",
       "    }\n",
       "\n",
       "    .dataframe tbody tr th {\n",
       "        vertical-align: top;\n",
       "    }\n",
       "\n",
       "    .dataframe thead th {\n",
       "        text-align: right;\n",
       "    }\n",
       "</style>\n",
       "<table border=\"1\" class=\"dataframe\">\n",
       "  <thead>\n",
       "    <tr style=\"text-align: right;\">\n",
       "      <th></th>\n",
       "      <th>Coefficients (b, w1, w2)</th>\n",
       "      <th>Prediction for (1500 SQ.FT, 3 Bedrooms)</th>\n",
       "      <th>Mean Squared Error</th>\n",
       "    </tr>\n",
       "  </thead>\n",
       "  <tbody>\n",
       "    <tr>\n",
       "      <th>0</th>\n",
       "      <td>0.015533</td>\n",
       "      <td>0.028257</td>\n",
       "      <td>2.740933</td>\n",
       "    </tr>\n",
       "    <tr>\n",
       "      <th>1</th>\n",
       "      <td>0.010274</td>\n",
       "      <td>0.028257</td>\n",
       "      <td>2.740933</td>\n",
       "    </tr>\n",
       "    <tr>\n",
       "      <th>2</th>\n",
       "      <td>0.010933</td>\n",
       "      <td>0.028257</td>\n",
       "      <td>2.740933</td>\n",
       "    </tr>\n",
       "  </tbody>\n",
       "</table>\n",
       "</div>"
      ],
      "text/plain": [
       "   Coefficients (b, w1, w2)  Prediction for (1500 SQ.FT, 3 Bedrooms)  \\\n",
       "0                  0.015533                                 0.028257   \n",
       "1                  0.010274                                 0.028257   \n",
       "2                  0.010933                                 0.028257   \n",
       "\n",
       "   Mean Squared Error  \n",
       "0            2.740933  \n",
       "1            2.740933  \n",
       "2            2.740933  "
      ]
     },
     "execution_count": 33,
     "metadata": {},
     "output_type": "execute_result"
    }
   ],
   "source": [
    "# Display results\n",
    "results = {\n",
    "    \"Coefficients (b, w1, w2)\": (b, w[0], w[1]),\n",
    "    \"Prediction for (1500 SQ.FT, 3 Bedrooms)\": prediction,\n",
    "    \"Mean Squared Error\": mse\n",
    "}\n",
    "dfr = pd.DataFrame(results)\n",
    "dfr.head()"
   ]
  }
 ],
 "metadata": {
  "kernelspec": {
   "display_name": "Python 3",
   "language": "python",
   "name": "python3"
  },
  "language_info": {
   "codemirror_mode": {
    "name": "ipython",
    "version": 3
   },
   "file_extension": ".py",
   "mimetype": "text/x-python",
   "name": "python",
   "nbconvert_exporter": "python",
   "pygments_lexer": "ipython3",
   "version": "3.13.0"
  }
 },
 "nbformat": 4,
 "nbformat_minor": 2
}
