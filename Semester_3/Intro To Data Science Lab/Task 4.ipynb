{
  "cells": [
    {
      "cell_type": "markdown",
      "metadata": {
        "id": "HHB3ND0R-jk3"
      },
      "source": [
        "## Table of Content\n",
        "* Revision and Tasks\n",
        "*Class\n",
        "*Objects\n",
        "*Inheritance\n",
        "*Encapsulation\n",
        "*Polymorphism"
      ]
    },
    {
      "cell_type": "markdown",
      "metadata": {
        "id": "b-Tk_wRc8vxV"
      },
      "source": [
        "Notebook prepared by: Talha Tariq\n",
        "#Lab 3 File Handling"
      ]
    },
    {
      "cell_type": "markdown",
      "metadata": {
        "id": "vZ2Q3BAMIzO-"
      },
      "source": [
        "## Python Class\n",
        "A class is a blueprint for creating objects. It serves as a template that defines the attributes and behaviors of an object.\n",
        "It encapsulates data (attributes) and methods (functions) that operate on that data. Also, promote code reusability and maintainability.\n",
        "# Syntax:\n",
        "class ClassName:\n",
        "\n",
        "          def functionName:\n",
        "# Objects\n",
        "Objects are instances of a class, created using the class name followed by parentheses. Objects encapsulate the attributes and methods defined in the class.\n",
        "\n",
        "# Syntax:\n",
        "object_name = ClassName()\n",
        "\n",
        "my_car = Car(\"Toyota\", \"Camry\", 2022)\n",
        "\n",
        "\n"
      ]
    },
    {
      "cell_type": "code",
      "execution_count": null,
      "metadata": {
        "id": "wuTTu2kZI0th"
      },
      "outputs": [],
      "source": [
        "class Person:\n",
        "  def __init__(self, name, age):\n",
        "    self.name = name\n",
        "    self.age = age\n",
        "\n",
        "  def print_name(self):\n",
        "      print(self.name)\n"
      ]
    },
    {
      "cell_type": "code",
      "execution_count": null,
      "metadata": {
        "colab": {
          "base_uri": "https://localhost:8080/"
        },
        "id": "0m5M3ICdI140",
        "outputId": "f9ae769a-a8ae-4492-b008-f7dbb9d230f3"
      },
      "outputs": [],
      "source": [
        "p1 = Person(\"Talha\", 29)\n",
        "\n",
        "print(p1.name)\n",
        "print(p1.age)\n",
        "p1.print_name()"
      ]
    },
    {
      "cell_type": "markdown",
      "metadata": {
        "id": "aqE84MEKFvPR"
      },
      "source": [
        "# Inheritance:\n",
        "Inheritance is a mechanism where a new class (subclass) can inherit properties and behaviors\n",
        "from an existing class (superclass). This promotes code reusability and allows for the creation\n",
        "of specialized classes."
      ]
    },
    {
      "cell_type": "code",
      "execution_count": null,
      "metadata": {
        "colab": {
          "base_uri": "https://localhost:8080/"
        },
        "id": "YBXLxTRsF2wV",
        "outputId": "7d5717ad-8c40-44e6-961a-bac4c0e21e45"
      },
      "outputs": [],
      "source": [
        "class Animal:\n",
        "  def speak(self):\n",
        "      return \"Animal speaks\"\n",
        "class Dog(Animal):\n",
        "  def bark(self):\n",
        "      return \"Dog barks\"\n",
        "dog = Dog()\n",
        "print(dog.speak())\n",
        "print(dog.bark())"
      ]
    },
    {
      "cell_type": "markdown",
      "metadata": {
        "id": "2e9ubMEXGkB7"
      },
      "source": [
        "# Encapsulation:\n",
        "Encapsulation refers to the bundling of data (attributes) and methods that operate on the data\n",
        "within a single unit (class). It hides the internal state of an object from the outside world and\n",
        "allows controlled access to it through methods.\n",
        "# Syntax\n",
        "class ClassName:\n",
        "\n",
        "          def init (self, parameters):\n",
        "            self. attribute_name = value # Private attribute\n",
        "          def get_attribute_name(self):\n",
        "            return self. attribute_name"
      ]
    },
    {
      "cell_type": "code",
      "execution_count": null,
      "metadata": {
        "colab": {
          "base_uri": "https://localhost:8080/"
        },
        "id": "P7Ud5KMQHK3K",
        "outputId": "2e3d562c-8911-4fe9-d889-14737eeed701"
      },
      "outputs": [],
      "source": [
        "# Example:\n",
        "class Car:\n",
        "  def __init__(self, make, model):\n",
        "    self. make = make\n",
        "    self. model = model\n",
        "  def get_make(self):\n",
        "    return self. make\n",
        "  def get_model(self):\n",
        "    return self. model\n",
        "car = Car(\"Toyota\", \"Corolla\")\n",
        "print(car.get_make())\n",
        "print(car.get_model())"
      ]
    },
    {
      "cell_type": "markdown",
      "metadata": {
        "id": "h3xk3kVRHnRX"
      },
      "source": [
        "# Polymorphism:\n",
        "Polymorphism allows objects of different classes to be treated as objects of a common super\n",
        "class. It enables flexibility by allowing methods to behave differently based on the object they\n",
        "operate on.\n",
        "\n",
        "## Syntax:\n",
        "class SuperClassName:\n",
        "\n",
        "      def method_name(self):\n",
        "      Method definition\n",
        "      pass\n",
        "\n",
        "      class SubClassName1(SuperClassName):\n",
        "        def method_name(self):\n",
        "        Overridden method definition\n",
        "        pass\n",
        "      class SubClassName2(SuperClassName):\n",
        "        def method_name(self):\n",
        "        Overridden method definition\n",
        "        Pass"
      ]
    },
    {
      "cell_type": "code",
      "execution_count": null,
      "metadata": {
        "colab": {
          "base_uri": "https://localhost:8080/"
        },
        "id": "-v1uvvo4Ibcu",
        "outputId": "04aa90ec-445d-4e17-f514-bc80af801c74"
      },
      "outputs": [],
      "source": [
        "class Animal:\n",
        "  def speak(self):\n",
        "    return \"Animal speaks\"\n",
        "class Dog(Animal):\n",
        "  def speak(self):\n",
        "    return \"Dog barks\"\n",
        "class Cat(Animal):\n",
        "  def speak(self):\n",
        "    return \"Cat meows\"\n",
        "\n",
        "def make_sound(animal):\n",
        "    print(animal.speak())\n",
        "dog = Dog()\n",
        "cat = Cat()\n",
        "\n",
        "make_sound(dog) # Output: Dog barks\n",
        "make_sound(cat) # Output: Cat meows"
      ]
    },
    {
      "cell_type": "markdown",
      "metadata": {
        "id": "lSNbVZA81hp2"
      },
      "source": [
        "### File Handling\n",
        "\n",
        "##### Types of data used for I/O:\n",
        "- Text - '12345' as a sequence of unicode chars\n",
        "- Binary - 12345 as a sequence of bytes of its binary equivalent\n",
        "\n",
        "##### Hence there are 2 file types to deal with\n",
        "- Text files - All program files are text files\n",
        "- Binary Files - Images,music,video,exe files"
      ]
    },
    {
      "cell_type": "markdown",
      "metadata": {
        "id": "lYCpq5aK2Hic"
      },
      "source": [
        "### How File I/O is done in most programming languages\n",
        "\n",
        "- Open a file\n",
        "- Read/Write data\n",
        "- Close the file"
      ]
    },
    {
      "cell_type": "markdown",
      "metadata": {
        "id": "xvnsasXQ2phi"
      },
      "source": [
        "### Writing to a file"
      ]
    },
    {
      "cell_type": "code",
      "execution_count": null,
      "metadata": {
        "colab": {
          "base_uri": "https://localhost:8080/",
          "height": 205
        },
        "id": "lZTUPJ_K2DEv",
        "outputId": "a75557f5-b5e0-4666-fe27-6bfff7171f92"
      },
      "outputs": [],
      "source": [
        "# case 1 - if the file is not present\n",
        "f = open('sample.txt','w')\n",
        "f.write('Hello world')\n",
        "f.close()\n",
        "# since file is closed hence this will not work\n",
        "f.write('hello')"
      ]
    },
    {
      "cell_type": "code",
      "execution_count": null,
      "metadata": {
        "id": "vFnaFPjR3fH9"
      },
      "outputs": [],
      "source": [
        "# write multiline strings\n",
        "f = open('sample1.txt','w')\n",
        "f.write('hello world')\n",
        "f.write('\\nhow are you?')\n",
        "f.close()"
      ]
    },
    {
      "cell_type": "code",
      "execution_count": null,
      "metadata": {
        "id": "bGSwQIAk24Le"
      },
      "outputs": [],
      "source": [
        "# case 2 - if the file is already present\n",
        "f = open('sample.txt','w')\n",
        "f.write('Talha Tariq')\n",
        "f.close()"
      ]
    },
    {
      "cell_type": "code",
      "execution_count": null,
      "metadata": {
        "id": "PguBWln13ZJy"
      },
      "outputs": [],
      "source": [
        "# how exactly open() works?"
      ]
    },
    {
      "cell_type": "code",
      "execution_count": null,
      "metadata": {
        "id": "KZViVfpm4D8F"
      },
      "outputs": [],
      "source": [
        "# Problem with w mode\n",
        "# introducing append mode\n",
        "f = open('/content/sample1.txt','a')\n",
        "f.write('\\nI am fine')\n",
        "f.close()"
      ]
    },
    {
      "cell_type": "code",
      "execution_count": null,
      "metadata": {
        "id": "JDseN1dP4SXR"
      },
      "outputs": [],
      "source": [
        "# write lines\n",
        "L = ['hello\\n','hi\\n','how are you\\n','I am fine']\n",
        "\n",
        "f = open('/content/temp/sample.txt','w')\n",
        "f.writelines(L)\n",
        "f.close()"
      ]
    },
    {
      "cell_type": "code",
      "execution_count": null,
      "metadata": {
        "colab": {
          "base_uri": "https://localhost:8080/"
        },
        "id": "yRu-TvOL6SFu",
        "outputId": "601e7d90-0b4f-416f-9cfe-57031a6677f1"
      },
      "outputs": [],
      "source": [
        "# reading from files\n",
        "# -> using read()\n",
        "f = open('/content/sample.txt','r')\n",
        "s = f.read()\n",
        "print(s)\n",
        "f.close()"
      ]
    },
    {
      "cell_type": "code",
      "execution_count": null,
      "metadata": {
        "colab": {
          "base_uri": "https://localhost:8080/"
        },
        "id": "lDqYZe_46thB",
        "outputId": "3267b102-b863-47c4-eec1-2b1067340d02"
      },
      "outputs": [],
      "source": [
        "# reading upto n chars\n",
        "f = open('/content/sample.txt','r')\n",
        "s = f.read(10)\n",
        "print(s)\n",
        "f.close()"
      ]
    },
    {
      "cell_type": "code",
      "execution_count": null,
      "metadata": {
        "colab": {
          "base_uri": "https://localhost:8080/"
        },
        "id": "no-ZCUat62-x",
        "outputId": "cf7570ed-5fcf-4203-b207-77d644510b8d"
      },
      "outputs": [],
      "source": [
        "# readline() -> to read line by line\n",
        "f = open('/content/sample.txt','r')\n",
        "print(f.readline(),end='')\n",
        "print(f.readline(),end='')\n",
        "f.close()"
      ]
    },
    {
      "cell_type": "code",
      "execution_count": null,
      "metadata": {
        "colab": {
          "base_uri": "https://localhost:8080/"
        },
        "id": "CsuRSq9m7NJF",
        "outputId": "2ba94ac9-dd0a-4f61-d4f2-f3c80893f3b5"
      },
      "outputs": [],
      "source": [
        "# reading entire using readline\n",
        "f = open('/content/sample.txt','r')\n",
        "\n",
        "while True:\n",
        "\n",
        "  data = f.readline()\n",
        "\n",
        "  if data == '':\n",
        "    break\n",
        "  else:\n",
        "    print(data,end='')\n",
        "\n",
        "f.close()"
      ]
    },
    {
      "cell_type": "markdown",
      "metadata": {
        "id": "VoRlMzQq78in"
      },
      "source": [
        "### Using Context Manager (With)\n",
        "\n",
        "- It's a good idea to close a file after usage as it will free up the resources\n",
        "- If we dont close it, garbage collector would close it\n",
        "- with keyword closes the file as soon as the usage is over"
      ]
    },
    {
      "cell_type": "code",
      "execution_count": null,
      "metadata": {
        "id": "xwAf8ljv7eop"
      },
      "outputs": [],
      "source": [
        "# with\n",
        "with open('/content/sample1.txt','w') as f:\n",
        "  f.write('Talha Tariq')"
      ]
    },
    {
      "cell_type": "code",
      "execution_count": null,
      "metadata": {
        "colab": {
          "base_uri": "https://localhost:8080/",
          "height": 169
        },
        "id": "M2kGnEjwzuzA",
        "outputId": "84fc8822-b85e-4288-ec82-0dcaf18d5fce"
      },
      "outputs": [],
      "source": [
        "f.write('hello')"
      ]
    },
    {
      "cell_type": "code",
      "execution_count": null,
      "metadata": {
        "colab": {
          "base_uri": "https://localhost:8080/"
        },
        "id": "woeWzxAA8Yr7",
        "outputId": "a782c85a-6fa6-43d2-ed34-274012542ec2"
      },
      "outputs": [],
      "source": [
        "# try f.read() now\n",
        "with open('/content/sample.txt','r') as f:\n",
        "  print(f.readline())"
      ]
    },
    {
      "cell_type": "code",
      "execution_count": null,
      "metadata": {
        "colab": {
          "base_uri": "https://localhost:8080/"
        },
        "id": "NEWlmJK78a34",
        "outputId": "39702889-0a64-4f2b-ea82-03bc6ec1de26"
      },
      "outputs": [],
      "source": [
        "# moving within a file -> 10 char then 10 char\n",
        "with open('sample.txt','r') as f:\n",
        "  print(f.read(10))\n",
        "  print(f.read(10))\n",
        "  print(f.read(10))\n",
        "  print(f.read(10))"
      ]
    },
    {
      "cell_type": "code",
      "execution_count": null,
      "metadata": {
        "id": "iZi3IxvQ9AxV"
      },
      "outputs": [],
      "source": [
        "# benefit? -> to load a big file in memory\n",
        "big_L = ['hello world ' for i in range(1000)]\n",
        "\n",
        "with open('big.txt','w') as f:\n",
        "  f.writelines(big_L)\n"
      ]
    },
    {
      "cell_type": "code",
      "execution_count": null,
      "metadata": {
        "colab": {
          "base_uri": "https://localhost:8080/"
        },
        "id": "5pznOzzleILp",
        "outputId": "43ac7570-82bc-4fb9-94f9-fe14d60a8ea5"
      },
      "outputs": [],
      "source": [
        "with open('big.txt','r') as f:\n",
        "\n",
        "  chunk_size = 10\n",
        "\n",
        "  while len(f.read(chunk_size)) > 0:\n",
        "    print(f.read(chunk_size),end='***')\n",
        "    f.read(chunk_size)"
      ]
    },
    {
      "cell_type": "code",
      "execution_count": null,
      "metadata": {
        "colab": {
          "base_uri": "https://localhost:8080/"
        },
        "id": "4POGK5dI9LmT",
        "outputId": "2a30e28e-b37a-40c8-8c69-891f5efd3be6"
      },
      "outputs": [],
      "source": [
        "# seek and tell function\n",
        "with open('sample.txt','r') as f:\n",
        "  f.seek(15)\n",
        "  print(f.read(10))\n",
        "  print(f.tell())\n",
        "\n",
        "  print(f.read(10))\n",
        "  print(f.tell())"
      ]
    },
    {
      "cell_type": "code",
      "execution_count": null,
      "metadata": {
        "id": "oFqebRKuhXZA"
      },
      "outputs": [],
      "source": [
        "# seek during write\n",
        "with open('sample.txt','w') as f:\n",
        "  f.write('Hello')\n",
        "  f.seek(0)\n",
        "  f.write('Xa')"
      ]
    },
    {
      "cell_type": "markdown",
      "metadata": {
        "id": "LFkBD4di9gQW"
      },
      "source": [
        "### Problems with working in text mode\n",
        "\n",
        "- can't work with binary files like images\n",
        "- not good for other data types like int/float/list/tuples"
      ]
    },
    {
      "cell_type": "code",
      "execution_count": null,
      "metadata": {
        "colab": {
          "base_uri": "https://localhost:8080/",
          "height": 348
        },
        "id": "MQyYgkBA_9yj",
        "outputId": "0dc1ba65-7891-4c0a-ca1a-149de010996a"
      },
      "outputs": [],
      "source": [
        "# working with binary file\n",
        "with open('screenshot1.png','r') as f:\n",
        "  f.read()"
      ]
    },
    {
      "cell_type": "code",
      "execution_count": null,
      "metadata": {
        "id": "TvYT7bVTACMw"
      },
      "outputs": [],
      "source": [
        "# working with binary file\n",
        "with open('screenshot1.png','rb') as f:\n",
        "  with open('screenshot_copy.png','wb') as wf:\n",
        "    wf.write(f.read())"
      ]
    },
    {
      "cell_type": "code",
      "execution_count": null,
      "metadata": {
        "id": "FyWcVm-8AFqZ"
      },
      "outputs": [],
      "source": [
        "# working with a big binary file"
      ]
    },
    {
      "cell_type": "code",
      "execution_count": null,
      "metadata": {
        "colab": {
          "base_uri": "https://localhost:8080/",
          "height": 205
        },
        "id": "2DFUFXIJ9fW0",
        "outputId": "5ef352fc-59b6-428c-c219-1466821a6e78"
      },
      "outputs": [],
      "source": [
        "# working with other data types\n",
        "with open('sample.txt','w') as f:\n",
        "  f.write(5)"
      ]
    },
    {
      "cell_type": "code",
      "execution_count": null,
      "metadata": {
        "id": "z2TfIqNj93Eh"
      },
      "outputs": [],
      "source": [
        "with open('sample.txt','w') as f:\n",
        "  f.write('5')"
      ]
    },
    {
      "cell_type": "code",
      "execution_count": null,
      "metadata": {
        "colab": {
          "base_uri": "https://localhost:8080/"
        },
        "id": "ZY2EcrdY97D5",
        "outputId": "df11e3c9-d12f-4ad5-943d-ecdb341db0cc"
      },
      "outputs": [],
      "source": [
        "with open('sample.txt','r') as f:\n",
        "  print(int(f.read()) + 5)"
      ]
    },
    {
      "cell_type": "code",
      "execution_count": null,
      "metadata": {
        "id": "nOMRJ9CB-K1F"
      },
      "outputs": [],
      "source": []
    },
    {
      "cell_type": "code",
      "execution_count": null,
      "metadata": {
        "id": "uUw_EYLs-OHF"
      },
      "outputs": [],
      "source": [
        "# more complex data\n",
        "d = {\n",
        "    'name':'nitish',\n",
        "     'age':33,\n",
        "     'gender':'male'\n",
        "}\n",
        "\n",
        "with open('sample.txt','w') as f:\n",
        "  f.write(str(d))"
      ]
    },
    {
      "cell_type": "code",
      "execution_count": null,
      "metadata": {
        "colab": {
          "base_uri": "https://localhost:8080/",
          "height": 187
        },
        "id": "KtKxeG8_7JVB",
        "outputId": "e64366d5-7b6a-4f51-ed13-4154331340f6"
      },
      "outputs": [],
      "source": [
        "with open('sample.txt','r') as f:\n",
        "  print(dict(f.read()))"
      ]
    },
    {
      "cell_type": "markdown",
      "metadata": {
        "id": "DKT0shpEl18A"
      },
      "source": [
        "## Lab Task\n",
        "1. How many words are there in the file \"Strings.txt\"?"
      ]
    },
    {
      "cell_type": "code",
      "execution_count": 10,
      "metadata": {
        "id": "Tqf6bAmB9tIQ"
      },
      "outputs": [
        {
          "name": "stdout",
          "output_type": "stream",
          "text": [
            "Words in file:  738953\n"
          ]
        }
      ],
      "source": [
        "# Write your code here\n",
        "\n",
        "f = open(\"Strings.txt\",'r',encoding = 'utf-8')\n",
        "i = 0\n",
        "for line in f:\n",
        "    for word in line.split():\n",
        "        i += 1\n",
        "\n",
        "\n",
        "print(\"Words in file: \" , i)\n",
        "\n",
        "f.close()"
      ]
    },
    {
      "cell_type": "markdown",
      "metadata": {
        "id": "ltysOMV09tlD"
      },
      "source": [
        "2. Does the file \"Strings.txt\" contain the word \"Python\"?"
      ]
    },
    {
      "cell_type": "code",
      "execution_count": 11,
      "metadata": {},
      "outputs": [
        {
          "name": "stdout",
          "output_type": "stream",
          "text": [
            "Found\n"
          ]
        }
      ],
      "source": [
        "# Write your code here!\n",
        "f = open(\"Strings.txt\", 'r', encoding='utf-8')\n",
        "\n",
        "found = False\n",
        "\n",
        "for line in f:\n",
        "    for word in line.split():\n",
        "        if word == \"Python\":\n",
        "            print(\"Found\")\n",
        "            found = True\n",
        "            break\n",
        "    if found:\n",
        "        break\n",
        "\n",
        "if not found:\n",
        "    print(\"Not Found\")\n",
        "\n",
        "f.close()\n"
      ]
    },
    {
      "cell_type": "markdown",
      "metadata": {
        "id": "GbbtLAXBAPu1"
      },
      "source": [
        "3. Write a python script that opens a file, takes a word as input, and searches for occurrences of that word in a file."
      ]
    },
    {
      "cell_type": "code",
      "execution_count": 16,
      "metadata": {
        "id": "gX6KLPdZAlkf"
      },
      "outputs": [
        {
          "name": "stdout",
          "output_type": "stream",
          "text": [
            "Number:  73\n"
          ]
        }
      ],
      "source": [
        "# Write your code here!\n",
        "f = open(\"Strings.txt\", 'r', encoding='utf-8')\n",
        "toFind = input(\"Enter a word to find: \")\n",
        "found = False\n",
        "occurence =0\n",
        "\n",
        "for line in f:\n",
        "    for word in line.split():\n",
        "        if word == toFind:\n",
        "            occurence +=1\n",
        "print(\"Number: \", occurence)\n",
        "f.close()\n"
      ]
    },
    {
      "cell_type": "markdown",
      "metadata": {
        "id": "iwezdQ68AmD1"
      },
      "source": [
        "4. Write a python script to open a text file, then print how many lines, words, and characters it contains."
      ]
    },
    {
      "cell_type": "code",
      "execution_count": 13,
      "metadata": {
        "id": "axgmhxnE922a"
      },
      "outputs": [
        {
          "name": "stdout",
          "output_type": "stream",
          "text": [
            "Lines:  72320\n",
            "Words:  738953\n",
            "Characters:  3666712\n"
          ]
        }
      ],
      "source": [
        "#Write your code here!\n",
        "f = open(\"Strings.txt\", 'r',encoding = 'utf-8')\n",
        "lines = 0\n",
        "words = 0\n",
        "characters = 0\n",
        "\n",
        "for line in f:\n",
        "    lines +=1\n",
        "    for word in line.split():\n",
        "        words +=1\n",
        "        characters += len(word)\n",
        "\n",
        "print(\"Lines: \", lines)\n",
        "print(\"Words: \", words)\n",
        "print(\"Characters: \", characters)\n",
        "\n",
        "f.close()\n"
      ]
    },
    {
      "cell_type": "markdown",
      "metadata": {
        "id": "epA1VBEU_bel"
      },
      "source": [
        "5. Create a Time class and initialize it with hours and minutes.\n",
        "a) Make a method addTime which should take two time object and add them. E.g. (2h and\n",
        "50min) + (1h and 20min) is (4h and 10min).\n",
        "b) Make a method displayTime which should print the time.\n",
        "c) Make a method DisplayMinutes which should display the total minutes in time. E.g. (1h and\n",
        "2 min) should display 62 minutes"
      ]
    },
    {
      "cell_type": "code",
      "execution_count": 18,
      "metadata": {
        "id": "o0sXgmMnA3X5"
      },
      "outputs": [
        {
          "name": "stdout",
          "output_type": "stream",
          "text": [
            "Hours:  8\n",
            "Minutes:  4\n",
            "Minutes:  484\n"
          ]
        }
      ],
      "source": [
        "# Write your code here!\n",
        "\n",
        "class Time:\n",
        "\n",
        "    def __init__(self,hours,minutes):\n",
        "        self.hours = hours\n",
        "        self.minutes = minutes\n",
        "    \n",
        "\n",
        "    def addTime(self,time1,time2):\n",
        "        time3 = Time(0,0)\n",
        "        time3.hours = time1.hours+time2.hours\n",
        "        time3.minutes = time1.minutes + time2.minutes\n",
        "        while(time3.minutes>=60):\n",
        "            time3.minutes = time3.minutes%60\n",
        "            time3.hours +=1\n",
        "        return time3\n",
        "\n",
        "    def displayTime(self):\n",
        "        print(\"Hours: \", self.hours)\n",
        "        print(\"Minutes: \",self.minutes)\n",
        "\n",
        "    def displayMinutes(self):\n",
        "        if self.hours > 0:\n",
        "            self.minutes += self.hours*60\n",
        "\n",
        "        print(\"Minutes: \", self.minutes)\n",
        "\n",
        "\n",
        "time5 = Time(3,50)\n",
        "time6 = Time(4,14)\n",
        "time7 = Time(0,0)\n",
        "time7 = time7.addTime(time5,time6)\n",
        "time7.displayTime()\n",
        "time7.displayMinutes()"
      ]
    }
  ],
  "metadata": {
    "colab": {
      "provenance": []
    },
    "kernelspec": {
      "display_name": "Python 3",
      "name": "python3"
    },
    "language_info": {
      "codemirror_mode": {
        "name": "ipython",
        "version": 3
      },
      "file_extension": ".py",
      "mimetype": "text/x-python",
      "name": "python",
      "nbconvert_exporter": "python",
      "pygments_lexer": "ipython3",
      "version": "3.12.5"
    }
  },
  "nbformat": 4,
  "nbformat_minor": 0
}
