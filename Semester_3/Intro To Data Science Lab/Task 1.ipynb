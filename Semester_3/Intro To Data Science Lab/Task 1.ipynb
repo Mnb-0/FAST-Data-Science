{
 "cells": [
  {
   "cell_type": "code",
   "execution_count": 1,
   "metadata": {},
   "outputs": [
    {
     "name": "stdout",
     "output_type": "stream",
     "text": [
      "Key found\n"
     ]
    }
   ],
   "source": [
    "my_dict = {'A': 'value1', 'B':'value2', 'C':'value3'}\n",
    "a = 0\n",
    "choice = input(\"Enter  your choice: \")\n",
    "\n",
    "if choice in  my_dict:\n",
    "    print(\"Key found\")\n",
    "else:\n",
    "    print(\"Not Found\")\n"
   ]
  },
  {
   "cell_type": "code",
   "execution_count": 6,
   "metadata": {},
   "outputs": [
    {
     "name": "stdout",
     "output_type": "stream",
     "text": [
      "After swapping\n",
      "a =  9\n",
      "b =  5\n"
     ]
    }
   ],
   "source": [
    "a = int(input(\"Enter first number\"))\n",
    "b = int(input(\"Enter second number\"))\n",
    "\n",
    "a = a + b\n",
    "b = a - b\n",
    "a = a - b\n",
    "\n",
    "print(\"After swapping\")\n",
    "print(\"a = \", a)\n",
    "print(\"b = \", b)\n"
   ]
  },
  {
   "cell_type": "code",
   "execution_count": 7,
   "metadata": {},
   "outputs": [
    {
     "name": "stdout",
     "output_type": "stream",
     "text": [
      "C\n",
      "B\n",
      "F\n",
      "F\n",
      "A\n"
     ]
    }
   ],
   "source": [
    "my_list = [65,70,45,10,90]\n",
    "best = max(my_list)\n",
    "for i in my_list:\n",
    "    if(i >= best - 10):\n",
    "        print(\"A\")\n",
    "    elif(i>= best-20):\n",
    "        print(\"B\")\n",
    "    elif(i>= best-30):\n",
    "        print(\"C\")\n",
    "    elif(i>=best-40):\n",
    "        print(\"D\")\n",
    "    else:\n",
    "        print(\"F\")\n",
    "    "
   ]
  }
 ],
 "metadata": {
  "kernelspec": {
   "display_name": "base",
   "language": "python",
   "name": "python3"
  },
  "language_info": {
   "codemirror_mode": {
    "name": "ipython",
    "version": 3
   },
   "file_extension": ".py",
   "mimetype": "text/x-python",
   "name": "python",
   "nbconvert_exporter": "python",
   "pygments_lexer": "ipython3",
   "version": "3.9.13"
  }
 },
 "nbformat": 4,
 "nbformat_minor": 2
}
