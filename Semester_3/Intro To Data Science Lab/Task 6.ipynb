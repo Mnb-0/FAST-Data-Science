{
 "cells": [
  {
   "cell_type": "markdown",
   "metadata": {},
   "source": [
    "Imports"
   ]
  },
  {
   "cell_type": "code",
   "execution_count": 24,
   "metadata": {},
   "outputs": [
    {
     "name": "stdout",
     "output_type": "stream",
     "text": [
      "File downloaded successfully.\n"
     ]
    }
   ],
   "source": [
    "import requests\n",
    "import numpy as np\n",
    "import pandas as pd\n",
    "url = \"https://raw.githubusercontent.com/TirendazAcademy/PANDAS-TUTORIAL/main/DataSets/vgsalesGlobale.csv\"\n",
    "response = requests.get(url)\n",
    "\n",
    "if response.status_code == 200:\n",
    "    with open(\"vgsalesGlobale.csv\", \"wb\") as file:\n",
    "        file.write(response.content)\n",
    "    print(\"File downloaded successfully.\")\n",
    "else:\n",
    "    print(\"Failed to download the file.\")"
   ]
  },
  {
   "cell_type": "code",
   "execution_count": 25,
   "metadata": {},
   "outputs": [],
   "source": [
    "df=pd.read_csv(\"vgsalesGlobale.csv\", sep=',')"
   ]
  },
  {
   "cell_type": "code",
   "execution_count": 26,
   "metadata": {},
   "outputs": [
    {
     "data": {
      "text/html": [
       "<div>\n",
       "<style scoped>\n",
       "    .dataframe tbody tr th:only-of-type {\n",
       "        vertical-align: middle;\n",
       "    }\n",
       "\n",
       "    .dataframe tbody tr th {\n",
       "        vertical-align: top;\n",
       "    }\n",
       "\n",
       "    .dataframe thead th {\n",
       "        text-align: right;\n",
       "    }\n",
       "</style>\n",
       "<table border=\"1\" class=\"dataframe\">\n",
       "  <thead>\n",
       "    <tr style=\"text-align: right;\">\n",
       "      <th></th>\n",
       "      <th>Rank</th>\n",
       "      <th>Name</th>\n",
       "      <th>Platform</th>\n",
       "      <th>Year</th>\n",
       "      <th>Genre</th>\n",
       "      <th>Publisher</th>\n",
       "      <th>NA_Sales</th>\n",
       "      <th>EU_Sales</th>\n",
       "      <th>JP_Sales</th>\n",
       "      <th>Other_Sales</th>\n",
       "      <th>Global_Sales</th>\n",
       "    </tr>\n",
       "  </thead>\n",
       "  <tbody>\n",
       "    <tr>\n",
       "      <th>0</th>\n",
       "      <td>1</td>\n",
       "      <td>Wii Sports</td>\n",
       "      <td>Wii</td>\n",
       "      <td>2006.0</td>\n",
       "      <td>Sports</td>\n",
       "      <td>Nintendo</td>\n",
       "      <td>41.49</td>\n",
       "      <td>29.02</td>\n",
       "      <td>3.77</td>\n",
       "      <td>8.46</td>\n",
       "      <td>82.74</td>\n",
       "    </tr>\n",
       "    <tr>\n",
       "      <th>1</th>\n",
       "      <td>2</td>\n",
       "      <td>Super Mario Bros.</td>\n",
       "      <td>NES</td>\n",
       "      <td>1985.0</td>\n",
       "      <td>Platform</td>\n",
       "      <td>Nintendo</td>\n",
       "      <td>29.08</td>\n",
       "      <td>3.58</td>\n",
       "      <td>6.81</td>\n",
       "      <td>0.77</td>\n",
       "      <td>40.24</td>\n",
       "    </tr>\n",
       "    <tr>\n",
       "      <th>2</th>\n",
       "      <td>3</td>\n",
       "      <td>Mario Kart Wii</td>\n",
       "      <td>Wii</td>\n",
       "      <td>2008.0</td>\n",
       "      <td>Racing</td>\n",
       "      <td>Nintendo</td>\n",
       "      <td>15.85</td>\n",
       "      <td>12.88</td>\n",
       "      <td>3.79</td>\n",
       "      <td>3.31</td>\n",
       "      <td>35.82</td>\n",
       "    </tr>\n",
       "    <tr>\n",
       "      <th>3</th>\n",
       "      <td>4</td>\n",
       "      <td>Wii Sports Resort</td>\n",
       "      <td>Wii</td>\n",
       "      <td>2009.0</td>\n",
       "      <td>Sports</td>\n",
       "      <td>Nintendo</td>\n",
       "      <td>15.75</td>\n",
       "      <td>11.01</td>\n",
       "      <td>3.28</td>\n",
       "      <td>2.96</td>\n",
       "      <td>33.00</td>\n",
       "    </tr>\n",
       "    <tr>\n",
       "      <th>4</th>\n",
       "      <td>5</td>\n",
       "      <td>Pokemon Red/Pokemon Blue</td>\n",
       "      <td>GB</td>\n",
       "      <td>1996.0</td>\n",
       "      <td>Role-Playing</td>\n",
       "      <td>Nintendo</td>\n",
       "      <td>11.27</td>\n",
       "      <td>8.89</td>\n",
       "      <td>10.22</td>\n",
       "      <td>1.00</td>\n",
       "      <td>31.37</td>\n",
       "    </tr>\n",
       "    <tr>\n",
       "      <th>...</th>\n",
       "      <td>...</td>\n",
       "      <td>...</td>\n",
       "      <td>...</td>\n",
       "      <td>...</td>\n",
       "      <td>...</td>\n",
       "      <td>...</td>\n",
       "      <td>...</td>\n",
       "      <td>...</td>\n",
       "      <td>...</td>\n",
       "      <td>...</td>\n",
       "      <td>...</td>\n",
       "    </tr>\n",
       "    <tr>\n",
       "      <th>16593</th>\n",
       "      <td>16596</td>\n",
       "      <td>Woody Woodpecker in Crazy Castle 5</td>\n",
       "      <td>GBA</td>\n",
       "      <td>2002.0</td>\n",
       "      <td>Platform</td>\n",
       "      <td>Kemco</td>\n",
       "      <td>0.01</td>\n",
       "      <td>0.00</td>\n",
       "      <td>0.00</td>\n",
       "      <td>0.00</td>\n",
       "      <td>0.01</td>\n",
       "    </tr>\n",
       "    <tr>\n",
       "      <th>16594</th>\n",
       "      <td>16597</td>\n",
       "      <td>Men in Black II: Alien Escape</td>\n",
       "      <td>GC</td>\n",
       "      <td>2003.0</td>\n",
       "      <td>Shooter</td>\n",
       "      <td>Infogrames</td>\n",
       "      <td>0.01</td>\n",
       "      <td>0.00</td>\n",
       "      <td>0.00</td>\n",
       "      <td>0.00</td>\n",
       "      <td>0.01</td>\n",
       "    </tr>\n",
       "    <tr>\n",
       "      <th>16595</th>\n",
       "      <td>16598</td>\n",
       "      <td>SCORE International Baja 1000: The Official Game</td>\n",
       "      <td>PS2</td>\n",
       "      <td>2008.0</td>\n",
       "      <td>Racing</td>\n",
       "      <td>Activision</td>\n",
       "      <td>0.00</td>\n",
       "      <td>0.00</td>\n",
       "      <td>0.00</td>\n",
       "      <td>0.00</td>\n",
       "      <td>0.01</td>\n",
       "    </tr>\n",
       "    <tr>\n",
       "      <th>16596</th>\n",
       "      <td>16599</td>\n",
       "      <td>Know How 2</td>\n",
       "      <td>DS</td>\n",
       "      <td>2010.0</td>\n",
       "      <td>Puzzle</td>\n",
       "      <td>7G//AMES</td>\n",
       "      <td>0.00</td>\n",
       "      <td>0.01</td>\n",
       "      <td>0.00</td>\n",
       "      <td>0.00</td>\n",
       "      <td>0.01</td>\n",
       "    </tr>\n",
       "    <tr>\n",
       "      <th>16597</th>\n",
       "      <td>16600</td>\n",
       "      <td>Spirits &amp; Spells</td>\n",
       "      <td>GBA</td>\n",
       "      <td>2003.0</td>\n",
       "      <td>Platform</td>\n",
       "      <td>Wanadoo</td>\n",
       "      <td>0.01</td>\n",
       "      <td>0.00</td>\n",
       "      <td>0.00</td>\n",
       "      <td>0.00</td>\n",
       "      <td>0.01</td>\n",
       "    </tr>\n",
       "  </tbody>\n",
       "</table>\n",
       "<p>16598 rows × 11 columns</p>\n",
       "</div>"
      ],
      "text/plain": [
       "        Rank                                              Name Platform  \\\n",
       "0          1                                        Wii Sports      Wii   \n",
       "1          2                                 Super Mario Bros.      NES   \n",
       "2          3                                    Mario Kart Wii      Wii   \n",
       "3          4                                 Wii Sports Resort      Wii   \n",
       "4          5                          Pokemon Red/Pokemon Blue       GB   \n",
       "...      ...                                               ...      ...   \n",
       "16593  16596                Woody Woodpecker in Crazy Castle 5      GBA   \n",
       "16594  16597                     Men in Black II: Alien Escape       GC   \n",
       "16595  16598  SCORE International Baja 1000: The Official Game      PS2   \n",
       "16596  16599                                        Know How 2       DS   \n",
       "16597  16600                                  Spirits & Spells      GBA   \n",
       "\n",
       "         Year         Genre   Publisher  NA_Sales  EU_Sales  JP_Sales  \\\n",
       "0      2006.0        Sports    Nintendo     41.49     29.02      3.77   \n",
       "1      1985.0      Platform    Nintendo     29.08      3.58      6.81   \n",
       "2      2008.0        Racing    Nintendo     15.85     12.88      3.79   \n",
       "3      2009.0        Sports    Nintendo     15.75     11.01      3.28   \n",
       "4      1996.0  Role-Playing    Nintendo     11.27      8.89     10.22   \n",
       "...       ...           ...         ...       ...       ...       ...   \n",
       "16593  2002.0      Platform       Kemco      0.01      0.00      0.00   \n",
       "16594  2003.0       Shooter  Infogrames      0.01      0.00      0.00   \n",
       "16595  2008.0        Racing  Activision      0.00      0.00      0.00   \n",
       "16596  2010.0        Puzzle    7G//AMES      0.00      0.01      0.00   \n",
       "16597  2003.0      Platform     Wanadoo      0.01      0.00      0.00   \n",
       "\n",
       "       Other_Sales  Global_Sales  \n",
       "0             8.46         82.74  \n",
       "1             0.77         40.24  \n",
       "2             3.31         35.82  \n",
       "3             2.96         33.00  \n",
       "4             1.00         31.37  \n",
       "...            ...           ...  \n",
       "16593         0.00          0.01  \n",
       "16594         0.00          0.01  \n",
       "16595         0.00          0.01  \n",
       "16596         0.00          0.01  \n",
       "16597         0.00          0.01  \n",
       "\n",
       "[16598 rows x 11 columns]"
      ]
     },
     "execution_count": 26,
     "metadata": {},
     "output_type": "execute_result"
    }
   ],
   "source": [
    "df"
   ]
  },
  {
   "cell_type": "code",
   "execution_count": 27,
   "metadata": {},
   "outputs": [
    {
     "data": {
      "text/plain": [
       "np.float64(8920.44)"
      ]
     },
     "execution_count": 27,
     "metadata": {},
     "output_type": "execute_result"
    }
   ],
   "source": [
    "#Total Global Sales\n",
    "df['Global_Sales'].sum()\n"
   ]
  },
  {
   "cell_type": "code",
   "execution_count": 28,
   "metadata": {},
   "outputs": [
    {
     "name": "stdout",
     "output_type": "stream",
     "text": [
      "Rank                     1\n",
      "Name            Wii Sports\n",
      "Platform               Wii\n",
      "Year                2006.0\n",
      "Genre               Sports\n",
      "Publisher         Nintendo\n",
      "NA_Sales             41.49\n",
      "EU_Sales             29.02\n",
      "JP_Sales              3.77\n",
      "Other_Sales           8.46\n",
      "Global_Sales         82.74\n",
      "Name: 0, dtype: object\n"
     ]
    }
   ],
   "source": [
    "#Game with Highest Global Sale\n",
    "highest_global_sales_game = df.loc[df['Global_Sales'].idxmax()]\n",
    "print(highest_global_sales_game)"
   ]
  },
  {
   "cell_type": "code",
   "execution_count": 29,
   "metadata": {},
   "outputs": [
    {
     "name": "stdout",
     "output_type": "stream",
     "text": [
      "Average sales in North America:  0.26466742981082064\n",
      "Average sales in Europe:  0.14665200626581515\n",
      "Average sales in Japan:  0.077781660441017\n",
      "Average sales in other regions:  0.0480630196409206\n"
     ]
    }
   ],
   "source": [
    "# Determine the average sales for each region\n",
    "average_sales_na = df['NA_Sales'].mean()\n",
    "average_sales_eu = df['EU_Sales'].mean()\n",
    "average_sales_jp = df['JP_Sales'].mean()\n",
    "average_sales_other = df['Other_Sales'].mean()\n",
    "print(\"Average sales in North America: \", average_sales_na)\n",
    "print(\"Average sales in Europe: \", average_sales_eu)\n",
    "print(\"Average sales in Japan: \", average_sales_jp)\n",
    "print(\"Average sales in other regions: \", average_sales_other)"
   ]
  },
  {
   "cell_type": "code",
   "execution_count": 38,
   "metadata": {},
   "outputs": [
    {
     "name": "stdout",
     "output_type": "stream",
     "text": [
      "Genre\n",
      "Action          1751.18\n",
      "Sports          1330.93\n",
      "Shooter         1037.37\n",
      "Role-Playing     927.37\n",
      "Platform         831.37\n",
      "Name: Global_Sales, dtype: float64\n"
     ]
    }
   ],
   "source": [
    "# Find the top 5 most popular game genres based on global sales\n",
    "top_5_genres = df.groupby('Genre')['Global_Sales'].sum().sort_values(ascending=False).head(5)\n",
    "print(top_5_genres)"
   ]
  },
  {
   "cell_type": "code",
   "execution_count": 31,
   "metadata": {},
   "outputs": [
    {
     "name": "stdout",
     "output_type": "stream",
     "text": [
      "              NA_Sales  EU_Sales  JP_Sales  Other_Sales\n",
      "Genre                                                  \n",
      "Action          877.83    525.00    159.95       187.38\n",
      "Adventure       105.80     64.13     52.07        16.81\n",
      "Fighting        223.59    101.32     87.35        36.68\n",
      "Misc            410.24    215.98    107.76        75.32\n",
      "Platform        447.05    201.63    130.77        51.59\n",
      "Puzzle          123.78     50.78     57.31        12.55\n",
      "Racing          359.42    238.39     56.69        77.27\n",
      "Role-Playing    327.28    188.06    352.31        59.61\n",
      "Shooter         582.60    313.27     38.28       102.69\n",
      "Simulation      183.31    113.38     63.70        31.52\n",
      "Sports          683.35    376.85    135.37       134.97\n",
      "Strategy         68.70     45.34     49.46        11.36\n"
     ]
    }
   ],
   "source": [
    "# Calculate the total sales for each genre in each region\n",
    "total_sales_by_genre_region = df.groupby('Genre')[['NA_Sales', 'EU_Sales', 'JP_Sales', 'Other_Sales']].sum()\n",
    "print(total_sales_by_genre_region)"
   ]
  },
  {
   "cell_type": "code",
   "execution_count": 32,
   "metadata": {},
   "outputs": [
    {
     "name": "stdout",
     "output_type": "stream",
     "text": [
      "The most popular genre in North America is:  Action\n"
     ]
    }
   ],
   "source": [
    "# Find the most popular genre in North America\n",
    "most_popular_genre_na = total_sales_by_genre_region['NA_Sales'].idxmax()\n",
    "print(\"The most popular genre in North America is: \", most_popular_genre_na)"
   ]
  },
  {
   "cell_type": "code",
   "execution_count": 33,
   "metadata": {},
   "outputs": [
    {
     "name": "stdout",
     "output_type": "stream",
     "text": [
      "        Rank                                               Name Platform  \\\n",
      "16588  16591                                   Mega Brain Boost       DS   \n",
      "16589  16592  Chou Ezaru wa Akai Hana: Koi wa Tsuki ni Shiru...      PSV   \n",
      "16590  16593  Eiyuu Densetsu: Sora no Kiseki Material Collec...      PSP   \n",
      "16591  16594                                Myst IV: Revelation       PC   \n",
      "16592  16595                                           Plushees       DS   \n",
      "16593  16596                 Woody Woodpecker in Crazy Castle 5      GBA   \n",
      "16594  16597                      Men in Black II: Alien Escape       GC   \n",
      "16595  16598   SCORE International Baja 1000: The Official Game      PS2   \n",
      "16596  16599                                         Know How 2       DS   \n",
      "16597  16600                                   Spirits & Spells      GBA   \n",
      "\n",
      "         Year         Genre              Publisher  NA_Sales  EU_Sales  \\\n",
      "16588  2008.0        Puzzle  Majesco Entertainment      0.01      0.00   \n",
      "16589  2016.0        Action        dramatic create      0.00      0.00   \n",
      "16590  2007.0  Role-Playing     Falcom Corporation      0.00      0.00   \n",
      "16591  2004.0     Adventure                Ubisoft      0.01      0.00   \n",
      "16592  2008.0    Simulation              Destineer      0.01      0.00   \n",
      "16593  2002.0      Platform                  Kemco      0.01      0.00   \n",
      "16594  2003.0       Shooter             Infogrames      0.01      0.00   \n",
      "16595  2008.0        Racing             Activision      0.00      0.00   \n",
      "16596  2010.0        Puzzle               7G//AMES      0.00      0.01   \n",
      "16597  2003.0      Platform                Wanadoo      0.01      0.00   \n",
      "\n",
      "       JP_Sales  Other_Sales  Global_Sales  \n",
      "16588      0.00          0.0          0.01  \n",
      "16589      0.01          0.0          0.01  \n",
      "16590      0.01          0.0          0.01  \n",
      "16591      0.00          0.0          0.01  \n",
      "16592      0.00          0.0          0.01  \n",
      "16593      0.00          0.0          0.01  \n",
      "16594      0.00          0.0          0.01  \n",
      "16595      0.00          0.0          0.01  \n",
      "16596      0.00          0.0          0.01  \n",
      "16597      0.00          0.0          0.01  \n"
     ]
    }
   ],
   "source": [
    "# Display the last 10 rows\n",
    "last_10_rows = df.tail(10)\n",
    "print(last_10_rows)"
   ]
  },
  {
   "cell_type": "code",
   "execution_count": 34,
   "metadata": {},
   "outputs": [
    {
     "name": "stdout",
     "output_type": "stream",
     "text": [
      "Platform\n",
      "PS2     1255.64\n",
      "X360     979.96\n",
      "PS3      957.84\n",
      "Name: Global_Sales, dtype: float64\n"
     ]
    }
   ],
   "source": [
    "# Determine the top 3 gaming platforms with the highest global sales\n",
    "top_3_platforms = df.groupby('Platform')['Global_Sales'].sum().sort_values(ascending=False).head(3)\n",
    "print(top_3_platforms)"
   ]
  },
  {
   "cell_type": "code",
   "execution_count": 35,
   "metadata": {},
   "outputs": [
    {
     "name": "stdout",
     "output_type": "stream",
     "text": [
      "Genre\n",
      "Action          19.631094\n",
      "Adventure        2.679688\n",
      "Fighting         5.032375\n",
      "Misc             9.079821\n",
      "Platform         9.319832\n",
      "Puzzle           2.745941\n",
      "Racing           8.206322\n",
      "Role-Playing    10.396012\n",
      "Shooter         11.629135\n",
      "Simulation       4.396644\n",
      "Sports          14.920004\n",
      "Strategy         1.963132\n",
      "Name: Global_Sales, dtype: float64\n"
     ]
    }
   ],
   "source": [
    "# Calculate the market share for each genre\n",
    "total_global_sales_all_genres = df['Global_Sales'].sum()\n",
    "market_share_by_genre = (df.groupby('Genre')['Global_Sales'].sum() / total_global_sales_all_genres) * 100\n",
    "print(market_share_by_genre)\n"
   ]
  },
  {
   "cell_type": "code",
   "execution_count": 36,
   "metadata": {},
   "outputs": [
    {
     "name": "stdout",
     "output_type": "stream",
     "text": [
      "Correlation coefficient between NA_Sales and EU_Sales:  0.767726748370264\n"
     ]
    }
   ],
   "source": [
    "# Calculate the correlation coefficient between NA_Sales and EU_Sales\n",
    "correlation_na_eu = df['NA_Sales'].corr(df['EU_Sales'])\n",
    "print(\"Correlation coefficient between NA_Sales and EU_Sales: \", correlation_na_eu)"
   ]
  },
  {
   "cell_type": "markdown",
   "metadata": {},
   "source": [
    "IMDB Task\n"
   ]
  },
  {
   "cell_type": "code",
   "execution_count": 42,
   "metadata": {},
   "outputs": [
    {
     "name": "stdout",
     "output_type": "stream",
     "text": [
      "                                                 text  label\n",
      "0   I grew up (b. 1965) watching and loving the Th...      0\n",
      "1   When I put this movie in my DVD player, and sa...      0\n",
      "2   Why do people who do not know what a particula...      0\n",
      "3   Even though I have great interest in Biblical ...      0\n",
      "4   Im a die hard Dads Army fan and nothing will e...      1\n",
      "..                                                ...    ...\n",
      "95  ...I saw this movie when it first came out in ...      1\n",
      "96  Released in December of 1957, Sayonara went on...      1\n",
      "97  War, Inc. - Corporations take over war in the ...      0\n",
      "98  What is your freaking problem? Do you have not...      1\n",
      "99  Dick and Jane Harper (Jim Carrey, T�a Leoni) w...      0\n",
      "\n",
      "[100 rows x 2 columns]\n",
      "text     object\n",
      "label     int64\n",
      "dtype: object\n",
      "label\n",
      "0    20019\n",
      "1    19981\n",
      "Name: count, dtype: int64\n",
      "                                                    text  label  Text_Length  \\\n",
      "9      My Super Ex Girlfriend turned out to be a plea...      1         1468   \n",
      "50     When this first came out, my dad brought it ho...      1          995   \n",
      "61     The \"old dark house\" sub-genre that dominated ...      1         2658   \n",
      "69     Kennan Ivory Wayans was so funny in Low Down D...      0          753   \n",
      "75     I recently bought this movie for three bucks a...      1         3103   \n",
      "...                                                  ...    ...          ...   \n",
      "39911  i was surprised after watching this piece of c...      0          678   \n",
      "39912  The retelling of a classic story is set to the...      1          598   \n",
      "39930  I must say I was surprised to find several pos...      0         1959   \n",
      "39965  This is a great, ridiculous horror movie that ...      1          864   \n",
      "39975  I could not believe how awful this film was; I...      0          777   \n",
      "\n",
      "                                              Text_Lower  \\\n",
      "9      my super ex girlfriend turned out to be a plea...   \n",
      "50     when this first came out, my dad brought it ho...   \n",
      "61     the \"old dark house\" sub-genre that dominated ...   \n",
      "69     kennan ivory wayans was so funny in low down d...   \n",
      "75     i recently bought this movie for three bucks a...   \n",
      "...                                                  ...   \n",
      "39911  i was surprised after watching this piece of c...   \n",
      "39912  the retelling of a classic story is set to the...   \n",
      "39930  i must say i was surprised to find several pos...   \n",
      "39965  this is a great, ridiculous horror movie that ...   \n",
      "39975  i could not believe how awful this film was; i...   \n",
      "\n",
      "                                              Text_Clean  Word_Count  \n",
      "9      My Super Ex Girlfriend turned out to be a plea...         282  \n",
      "50     When this first came out my dad brought it hom...         169  \n",
      "61     The old dark house subgenre that dominated the...         479  \n",
      "69     Kennan Ivory Wayans was so funny in Low Down D...         151  \n",
      "75     I recently bought this movie for three bucks a...         547  \n",
      "...                                                  ...         ...  \n",
      "39911  i was surprised after watching this piece of c...         126  \n",
      "39912  The retelling of a classic story is set to the...         108  \n",
      "39930  I must say I was surprised to find several pos...         371  \n",
      "39965  This is a great ridiculous horror movie that c...         168  \n",
      "39975  I could not believe how awful this film was I ...         138  \n",
      "\n",
      "[2454 rows x 6 columns]\n",
      "                                                    text  label  Text_Length  \\\n",
      "4      Im a die hard Dads Army fan and nothing will e...      1          983   \n",
      "6      Finally watched this shocking movie last night...      1         1377   \n",
      "8      It may be the remake of 1987 Autumn's Tale aft...      1         1137   \n",
      "9      My Super Ex Girlfriend turned out to be a plea...      1         1468   \n",
      "10     I can't believe people are looking for a plot ...      1          666   \n",
      "...                                                  ...    ...          ...   \n",
      "39992  Although I agree that it's a good but not grea...      1          873   \n",
      "39995  \"Western Union\" is something of a forgotten cl...      1         3111   \n",
      "39996  This movie is an incredible piece of work. It ...      1          291   \n",
      "39998  When I first watched Flatliners, I was amazed....      1         1045   \n",
      "39999  Why would this film be so good, but only gross...      1          727   \n",
      "\n",
      "                                              Text_Lower  \\\n",
      "4      im a die hard dads army fan and nothing will e...   \n",
      "6      finally watched this shocking movie last night...   \n",
      "8      it may be the remake of 1987 autumn's tale aft...   \n",
      "9      my super ex girlfriend turned out to be a plea...   \n",
      "10     i can't believe people are looking for a plot ...   \n",
      "...                                                  ...   \n",
      "39992  although i agree that it's a good but not grea...   \n",
      "39995  \"western union\" is something of a forgotten cl...   \n",
      "39996  this movie is an incredible piece of work. it ...   \n",
      "39998  when i first watched flatliners, i was amazed....   \n",
      "39999  why would this film be so good, but only gross...   \n",
      "\n",
      "                                              Text_Clean  Word_Count  \n",
      "4      Im a die hard Dads Army fan and nothing will e...         177  \n",
      "6      Finally watched this shocking movie last night...         239  \n",
      "8      It may be the remake of 1987 Autumns Tale afte...         188  \n",
      "9      My Super Ex Girlfriend turned out to be a plea...         282  \n",
      "10     I cant believe people are looking for a plot i...         125  \n",
      "...                                                  ...         ...  \n",
      "39992  Although I agree that its a good but not great...         158  \n",
      "39995  Western Union is something of a forgotten clas...         536  \n",
      "39996  This movie is an incredible piece of work It e...          50  \n",
      "39998  When I first watched Flatliners I was amazed I...         168  \n",
      "39999  Why would this film be so good but only gross ...         137  \n",
      "\n",
      "[19981 rows x 6 columns]\n"
     ]
    }
   ],
   "source": [
    "df = pd.read_csv('IMDB.csv', sep=',')\n",
    "print(df.head(100))\n",
    "\n",
    "print(df.dtypes)\n",
    "\n",
    "df['Text_Length'] = df['text'].apply(len)\n",
    "\n",
    "label_counts = df['label'].value_counts()\n",
    "print(label_counts)\n",
    "\n",
    "df['Text_Lower'] = df['text'].str.lower()\n",
    "\n",
    "df['Text_Clean'] = df['text'].str.replace(r'[^\\w\\s]', '', regex=True)\n",
    "\n",
    "df['Word_Count'] = df['Text_Clean'].apply(lambda x: len(x.split()))\n",
    "\n",
    "wrd = 'surprise'\n",
    "filtered_wrd = df[df['text'].str.contains(wrd, case=False, na=False)]\n",
    "print(filtered_wrd)\n",
    "\n",
    "filtered_label_1 = df[df['label'] == 1]\n",
    "print(filtered_label_1)\n"
   ]
  }
 ],
 "metadata": {
  "kernelspec": {
   "display_name": "Python 3",
   "language": "python",
   "name": "python3"
  },
  "language_info": {
   "codemirror_mode": {
    "name": "ipython",
    "version": 3
   },
   "file_extension": ".py",
   "mimetype": "text/x-python",
   "name": "python",
   "nbconvert_exporter": "python",
   "pygments_lexer": "ipython3",
   "version": "3.13.0"
  }
 },
 "nbformat": 4,
 "nbformat_minor": 2
}
